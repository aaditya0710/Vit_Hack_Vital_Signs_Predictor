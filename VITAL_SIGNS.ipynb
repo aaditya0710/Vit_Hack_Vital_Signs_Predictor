{
 "cells": [
  {
   "cell_type": "code",
   "execution_count": 2,
   "metadata": {
    "id": "qhGF_3EfIR0d"
   },
   "outputs": [],
   "source": [
    "import pandas as pd\n",
    "import seaborn as sns\n",
    "import matplotlib.pyplot as plt"
   ]
  },
  {
   "cell_type": "code",
   "execution_count": 32,
   "metadata": {
    "id": "wndFUeQ5NHzz"
   },
   "outputs": [],
   "source": [
    "from sklearn import preprocessing\n",
    "from collections import deque\n",
    "import random\n",
    "import numpy as np"
   ]
  },
  {
   "cell_type": "code",
   "execution_count": 48,
   "metadata": {
    "id": "dOHbq8u1gFHB"
   },
   "outputs": [],
   "source": [
    "import tensorflow as tf\n",
    "from tensorflow.keras.models import Sequential\n",
    "from tensorflow.keras.layers import Dense,Dropout,LSTM"
   ]
  },
  {
   "cell_type": "markdown",
   "metadata": {
    "id": "3jCo3nz4U8SJ"
   },
   "source": [
    "# Exploratory Data Analysis"
   ]
  },
  {
   "cell_type": "code",
   "execution_count": 6,
   "metadata": {
    "colab": {
     "base_uri": "https://localhost:8080/",
     "height": 266
    },
    "id": "NGIIYp8dO464",
    "outputId": "2dda1a8a-b92c-403b-cdbd-8e0da9e9d98d"
   },
   "outputs": [
    {
     "data": {
      "text/html": [
       "<div>\n",
       "<style scoped>\n",
       "    .dataframe tbody tr th:only-of-type {\n",
       "        vertical-align: middle;\n",
       "    }\n",
       "\n",
       "    .dataframe tbody tr th {\n",
       "        vertical-align: top;\n",
       "    }\n",
       "\n",
       "    .dataframe thead th {\n",
       "        text-align: right;\n",
       "    }\n",
       "</style>\n",
       "<table border=\"1\" class=\"dataframe\">\n",
       "  <thead>\n",
       "    <tr style=\"text-align: right;\">\n",
       "      <th></th>\n",
       "      <th>Time</th>\n",
       "      <th>RelativeTimeMilliseconds</th>\n",
       "      <th>Clock</th>\n",
       "      <th>HR</th>\n",
       "      <th>ST-II</th>\n",
       "      <th>Pulse</th>\n",
       "      <th>SpO2</th>\n",
       "      <th>Perf</th>\n",
       "      <th>etCO2</th>\n",
       "      <th>imCO2</th>\n",
       "      <th>awRR</th>\n",
       "      <th>NBP (Sys)</th>\n",
       "      <th>NBP (Dia)</th>\n",
       "      <th>NBP (Mean)</th>\n",
       "      <th>NBP (Pulse)</th>\n",
       "      <th>NBP (Time Remaining)</th>\n",
       "      <th>ART (Sys)</th>\n",
       "      <th>ART (Dia)</th>\n",
       "      <th>ART (Mean)</th>\n",
       "      <th>etDES</th>\n",
       "      <th>inDES</th>\n",
       "      <th>etISO</th>\n",
       "      <th>inISO</th>\n",
       "      <th>etSEV</th>\n",
       "      <th>inSEV</th>\n",
       "      <th>etN2O</th>\n",
       "      <th>inN2O</th>\n",
       "      <th>MAC</th>\n",
       "      <th>etO2</th>\n",
       "      <th>inO2</th>\n",
       "      <th>Temp</th>\n",
       "      <th>BIS</th>\n",
       "      <th>SQI</th>\n",
       "      <th>EMG</th>\n",
       "      <th>Tidal Volume</th>\n",
       "      <th>Minute Volume</th>\n",
       "      <th>RR</th>\n",
       "      <th>Set Tidal Volume</th>\n",
       "      <th>Set RR</th>\n",
       "      <th>Set I:E Ratio</th>\n",
       "      <th>Set PEEP</th>\n",
       "      <th>Set PAWmax</th>\n",
       "      <th>Set PAWmin</th>\n",
       "      <th>Set Mechanical Ventilation</th>\n",
       "      <th>Tidal Volume Exp (Spiro)</th>\n",
       "      <th>Tidal Volume In (Spiro)</th>\n",
       "      <th>Minute Volume Exp (Spiro)</th>\n",
       "      <th>Minute Volume In (Spiro)</th>\n",
       "      <th>Lung Compliance (Spiro)</th>\n",
       "      <th>Airway Resistance (Spiro)</th>\n",
       "      <th>Max Inspiratory Pressure (Spiro)</th>\n",
       "      <th>ECG</th>\n",
       "      <th>Pleth</th>\n",
       "      <th>CO2</th>\n",
       "      <th>ART</th>\n",
       "      <th>EEG</th>\n",
       "      <th>AWP</th>\n",
       "      <th>AWF</th>\n",
       "      <th>AWV</th>\n",
       "      <th>AWP-Spiro</th>\n",
       "      <th>AWF-Spiro</th>\n",
       "      <th>AWV-Spiro</th>\n",
       "      <th>Num Patient Alarms</th>\n",
       "      <th>Num Technical Alarms</th>\n",
       "    </tr>\n",
       "  </thead>\n",
       "  <tbody>\n",
       "    <tr>\n",
       "      <th>0</th>\n",
       "      <td>02:00:00_000</td>\n",
       "      <td>7200000</td>\n",
       "      <td>19:33</td>\n",
       "      <td>51.0</td>\n",
       "      <td>NaN</td>\n",
       "      <td>51</td>\n",
       "      <td>98</td>\n",
       "      <td>3.0</td>\n",
       "      <td>39</td>\n",
       "      <td>1</td>\n",
       "      <td>7</td>\n",
       "      <td>94</td>\n",
       "      <td>50.0</td>\n",
       "      <td>60.0</td>\n",
       "      <td>NaN</td>\n",
       "      <td>NaN</td>\n",
       "      <td>NaN</td>\n",
       "      <td>NaN</td>\n",
       "      <td>NaN</td>\n",
       "      <td>NaN</td>\n",
       "      <td>NaN</td>\n",
       "      <td>NaN</td>\n",
       "      <td>NaN</td>\n",
       "      <td>0.8</td>\n",
       "      <td>0.45</td>\n",
       "      <td>0</td>\n",
       "      <td>0</td>\n",
       "      <td>0.4</td>\n",
       "      <td>88</td>\n",
       "      <td>95</td>\n",
       "      <td>NaN</td>\n",
       "      <td>NaN</td>\n",
       "      <td>NaN</td>\n",
       "      <td>NaN</td>\n",
       "      <td>882</td>\n",
       "      <td>6.1</td>\n",
       "      <td>8</td>\n",
       "      <td>NaN</td>\n",
       "      <td>NaN</td>\n",
       "      <td>NaN</td>\n",
       "      <td>NaN</td>\n",
       "      <td>NaN</td>\n",
       "      <td>NaN</td>\n",
       "      <td>NaN</td>\n",
       "      <td>NaN</td>\n",
       "      <td>NaN</td>\n",
       "      <td>NaN</td>\n",
       "      <td>NaN</td>\n",
       "      <td>NaN</td>\n",
       "      <td>NaN</td>\n",
       "      <td>NaN</td>\n",
       "      <td>-0.160</td>\n",
       "      <td>0.39512</td>\n",
       "      <td>36.8</td>\n",
       "      <td>NaN</td>\n",
       "      <td>NaN</td>\n",
       "      <td>8.20354</td>\n",
       "      <td>43.02551</td>\n",
       "      <td>630.2</td>\n",
       "      <td>NaN</td>\n",
       "      <td>NaN</td>\n",
       "      <td>NaN</td>\n",
       "      <td>0</td>\n",
       "      <td>0</td>\n",
       "    </tr>\n",
       "    <tr>\n",
       "      <th>1</th>\n",
       "      <td>02:00:00_010</td>\n",
       "      <td>7200010</td>\n",
       "      <td>19:33</td>\n",
       "      <td>51.0</td>\n",
       "      <td>NaN</td>\n",
       "      <td>51</td>\n",
       "      <td>98</td>\n",
       "      <td>3.0</td>\n",
       "      <td>39</td>\n",
       "      <td>1</td>\n",
       "      <td>7</td>\n",
       "      <td>94</td>\n",
       "      <td>50.0</td>\n",
       "      <td>60.0</td>\n",
       "      <td>NaN</td>\n",
       "      <td>NaN</td>\n",
       "      <td>NaN</td>\n",
       "      <td>NaN</td>\n",
       "      <td>NaN</td>\n",
       "      <td>NaN</td>\n",
       "      <td>NaN</td>\n",
       "      <td>NaN</td>\n",
       "      <td>NaN</td>\n",
       "      <td>0.8</td>\n",
       "      <td>0.45</td>\n",
       "      <td>0</td>\n",
       "      <td>0</td>\n",
       "      <td>0.4</td>\n",
       "      <td>88</td>\n",
       "      <td>95</td>\n",
       "      <td>NaN</td>\n",
       "      <td>NaN</td>\n",
       "      <td>NaN</td>\n",
       "      <td>NaN</td>\n",
       "      <td>882</td>\n",
       "      <td>6.1</td>\n",
       "      <td>8</td>\n",
       "      <td>NaN</td>\n",
       "      <td>NaN</td>\n",
       "      <td>NaN</td>\n",
       "      <td>NaN</td>\n",
       "      <td>NaN</td>\n",
       "      <td>NaN</td>\n",
       "      <td>NaN</td>\n",
       "      <td>NaN</td>\n",
       "      <td>NaN</td>\n",
       "      <td>NaN</td>\n",
       "      <td>NaN</td>\n",
       "      <td>NaN</td>\n",
       "      <td>NaN</td>\n",
       "      <td>NaN</td>\n",
       "      <td>-0.155</td>\n",
       "      <td>0.39243</td>\n",
       "      <td>36.8</td>\n",
       "      <td>NaN</td>\n",
       "      <td>NaN</td>\n",
       "      <td>8.18365</td>\n",
       "      <td>43.15805</td>\n",
       "      <td>637.4</td>\n",
       "      <td>NaN</td>\n",
       "      <td>NaN</td>\n",
       "      <td>NaN</td>\n",
       "      <td>0</td>\n",
       "      <td>0</td>\n",
       "    </tr>\n",
       "    <tr>\n",
       "      <th>2</th>\n",
       "      <td>02:00:00_020</td>\n",
       "      <td>7200020</td>\n",
       "      <td>19:33</td>\n",
       "      <td>51.0</td>\n",
       "      <td>NaN</td>\n",
       "      <td>51</td>\n",
       "      <td>98</td>\n",
       "      <td>3.0</td>\n",
       "      <td>39</td>\n",
       "      <td>1</td>\n",
       "      <td>7</td>\n",
       "      <td>94</td>\n",
       "      <td>50.0</td>\n",
       "      <td>60.0</td>\n",
       "      <td>NaN</td>\n",
       "      <td>NaN</td>\n",
       "      <td>NaN</td>\n",
       "      <td>NaN</td>\n",
       "      <td>NaN</td>\n",
       "      <td>NaN</td>\n",
       "      <td>NaN</td>\n",
       "      <td>NaN</td>\n",
       "      <td>NaN</td>\n",
       "      <td>0.8</td>\n",
       "      <td>0.45</td>\n",
       "      <td>0</td>\n",
       "      <td>0</td>\n",
       "      <td>0.4</td>\n",
       "      <td>88</td>\n",
       "      <td>95</td>\n",
       "      <td>NaN</td>\n",
       "      <td>NaN</td>\n",
       "      <td>NaN</td>\n",
       "      <td>NaN</td>\n",
       "      <td>882</td>\n",
       "      <td>6.1</td>\n",
       "      <td>8</td>\n",
       "      <td>NaN</td>\n",
       "      <td>NaN</td>\n",
       "      <td>NaN</td>\n",
       "      <td>NaN</td>\n",
       "      <td>NaN</td>\n",
       "      <td>NaN</td>\n",
       "      <td>NaN</td>\n",
       "      <td>NaN</td>\n",
       "      <td>NaN</td>\n",
       "      <td>NaN</td>\n",
       "      <td>NaN</td>\n",
       "      <td>NaN</td>\n",
       "      <td>NaN</td>\n",
       "      <td>NaN</td>\n",
       "      <td>-0.150</td>\n",
       "      <td>0.39170</td>\n",
       "      <td>36.8</td>\n",
       "      <td>NaN</td>\n",
       "      <td>NaN</td>\n",
       "      <td>8.16036</td>\n",
       "      <td>42.97751</td>\n",
       "      <td>644.6</td>\n",
       "      <td>NaN</td>\n",
       "      <td>NaN</td>\n",
       "      <td>NaN</td>\n",
       "      <td>0</td>\n",
       "      <td>0</td>\n",
       "    </tr>\n",
       "    <tr>\n",
       "      <th>3</th>\n",
       "      <td>02:00:00_030</td>\n",
       "      <td>7200030</td>\n",
       "      <td>19:33</td>\n",
       "      <td>51.0</td>\n",
       "      <td>NaN</td>\n",
       "      <td>51</td>\n",
       "      <td>98</td>\n",
       "      <td>3.0</td>\n",
       "      <td>39</td>\n",
       "      <td>1</td>\n",
       "      <td>7</td>\n",
       "      <td>94</td>\n",
       "      <td>50.0</td>\n",
       "      <td>60.0</td>\n",
       "      <td>NaN</td>\n",
       "      <td>NaN</td>\n",
       "      <td>NaN</td>\n",
       "      <td>NaN</td>\n",
       "      <td>NaN</td>\n",
       "      <td>NaN</td>\n",
       "      <td>NaN</td>\n",
       "      <td>NaN</td>\n",
       "      <td>NaN</td>\n",
       "      <td>0.8</td>\n",
       "      <td>0.45</td>\n",
       "      <td>0</td>\n",
       "      <td>0</td>\n",
       "      <td>0.4</td>\n",
       "      <td>88</td>\n",
       "      <td>95</td>\n",
       "      <td>NaN</td>\n",
       "      <td>NaN</td>\n",
       "      <td>NaN</td>\n",
       "      <td>NaN</td>\n",
       "      <td>882</td>\n",
       "      <td>6.1</td>\n",
       "      <td>8</td>\n",
       "      <td>NaN</td>\n",
       "      <td>NaN</td>\n",
       "      <td>NaN</td>\n",
       "      <td>NaN</td>\n",
       "      <td>NaN</td>\n",
       "      <td>NaN</td>\n",
       "      <td>NaN</td>\n",
       "      <td>NaN</td>\n",
       "      <td>NaN</td>\n",
       "      <td>NaN</td>\n",
       "      <td>NaN</td>\n",
       "      <td>NaN</td>\n",
       "      <td>NaN</td>\n",
       "      <td>NaN</td>\n",
       "      <td>-0.145</td>\n",
       "      <td>0.39145</td>\n",
       "      <td>36.8</td>\n",
       "      <td>NaN</td>\n",
       "      <td>NaN</td>\n",
       "      <td>8.16700</td>\n",
       "      <td>42.43487</td>\n",
       "      <td>651.6</td>\n",
       "      <td>NaN</td>\n",
       "      <td>NaN</td>\n",
       "      <td>NaN</td>\n",
       "      <td>0</td>\n",
       "      <td>0</td>\n",
       "    </tr>\n",
       "    <tr>\n",
       "      <th>4</th>\n",
       "      <td>02:00:00_040</td>\n",
       "      <td>7200040</td>\n",
       "      <td>19:33</td>\n",
       "      <td>51.0</td>\n",
       "      <td>NaN</td>\n",
       "      <td>51</td>\n",
       "      <td>98</td>\n",
       "      <td>3.0</td>\n",
       "      <td>39</td>\n",
       "      <td>1</td>\n",
       "      <td>7</td>\n",
       "      <td>94</td>\n",
       "      <td>50.0</td>\n",
       "      <td>60.0</td>\n",
       "      <td>NaN</td>\n",
       "      <td>NaN</td>\n",
       "      <td>NaN</td>\n",
       "      <td>NaN</td>\n",
       "      <td>NaN</td>\n",
       "      <td>NaN</td>\n",
       "      <td>NaN</td>\n",
       "      <td>NaN</td>\n",
       "      <td>NaN</td>\n",
       "      <td>0.8</td>\n",
       "      <td>0.45</td>\n",
       "      <td>0</td>\n",
       "      <td>0</td>\n",
       "      <td>0.4</td>\n",
       "      <td>88</td>\n",
       "      <td>95</td>\n",
       "      <td>NaN</td>\n",
       "      <td>NaN</td>\n",
       "      <td>NaN</td>\n",
       "      <td>NaN</td>\n",
       "      <td>882</td>\n",
       "      <td>6.1</td>\n",
       "      <td>8</td>\n",
       "      <td>NaN</td>\n",
       "      <td>NaN</td>\n",
       "      <td>NaN</td>\n",
       "      <td>NaN</td>\n",
       "      <td>NaN</td>\n",
       "      <td>NaN</td>\n",
       "      <td>NaN</td>\n",
       "      <td>NaN</td>\n",
       "      <td>NaN</td>\n",
       "      <td>NaN</td>\n",
       "      <td>NaN</td>\n",
       "      <td>NaN</td>\n",
       "      <td>NaN</td>\n",
       "      <td>NaN</td>\n",
       "      <td>-0.140</td>\n",
       "      <td>0.39243</td>\n",
       "      <td>36.8</td>\n",
       "      <td>NaN</td>\n",
       "      <td>NaN</td>\n",
       "      <td>8.13787</td>\n",
       "      <td>42.65852</td>\n",
       "      <td>658.7</td>\n",
       "      <td>NaN</td>\n",
       "      <td>NaN</td>\n",
       "      <td>NaN</td>\n",
       "      <td>0</td>\n",
       "      <td>0</td>\n",
       "    </tr>\n",
       "  </tbody>\n",
       "</table>\n",
       "</div>"
      ],
      "text/plain": [
       "           Time  ...  Num Technical Alarms\n",
       "0  02:00:00_000  ...                     0\n",
       "1  02:00:00_010  ...                     0\n",
       "2  02:00:00_020  ...                     0\n",
       "3  02:00:00_030  ...                     0\n",
       "4  02:00:00_040  ...                     0\n",
       "\n",
       "[5 rows x 64 columns]"
      ]
     },
     "execution_count": 6,
     "metadata": {
      "tags": []
     },
     "output_type": "execute_result"
    }
   ],
   "source": [
    "Dataset = pd.read_csv('/content/uq_vsd_case01_fulldata_13 - (Modified).csv')\n",
    "Dataset.head()"
   ]
  },
  {
   "cell_type": "code",
   "execution_count": 7,
   "metadata": {
    "colab": {
     "base_uri": "https://localhost:8080/",
     "height": 252
    },
    "id": "gibaw8CRSRGH",
    "outputId": "21f376cc-9ac1-4a94-ba33-e2b7780794cf"
   },
   "outputs": [
    {
     "data": {
      "text/plain": [
       "Index(['Time', 'RelativeTimeMilliseconds', 'Clock', 'HR', 'ST-II', 'Pulse',\n",
       "       'SpO2', 'Perf', 'etCO2', 'imCO2', 'awRR', 'NBP (Sys)', 'NBP (Dia)',\n",
       "       'NBP (Mean)', 'NBP (Pulse)', 'NBP (Time Remaining)', 'ART (Sys)',\n",
       "       'ART (Dia)', 'ART (Mean)', 'etDES', 'inDES', 'etISO', 'inISO', 'etSEV',\n",
       "       'inSEV', 'etN2O', 'inN2O', 'MAC', 'etO2', 'inO2', 'Temp', 'BIS', 'SQI',\n",
       "       'EMG', 'Tidal Volume', 'Minute Volume', 'RR', 'Set Tidal Volume',\n",
       "       'Set RR', 'Set I:E Ratio', 'Set PEEP', 'Set PAWmax', 'Set PAWmin',\n",
       "       'Set Mechanical Ventilation', 'Tidal Volume Exp (Spiro)',\n",
       "       'Tidal Volume In (Spiro)', 'Minute Volume Exp (Spiro)',\n",
       "       'Minute Volume In (Spiro)', 'Lung Compliance (Spiro)',\n",
       "       'Airway Resistance (Spiro)', 'Max Inspiratory Pressure (Spiro)', 'ECG',\n",
       "       'Pleth', 'CO2', 'ART', 'EEG', 'AWP', 'AWF', 'AWV', 'AWP-Spiro',\n",
       "       'AWF-Spiro', 'AWV-Spiro', 'Num Patient Alarms', 'Num Technical Alarms'],\n",
       "      dtype='object')"
      ]
     },
     "execution_count": 7,
     "metadata": {
      "tags": []
     },
     "output_type": "execute_result"
    }
   ],
   "source": [
    "Dataset.columns"
   ]
  },
  {
   "cell_type": "code",
   "execution_count": 8,
   "metadata": {
    "colab": {
     "base_uri": "https://localhost:8080/",
     "height": 195
    },
    "id": "rv1LbFyGRE2q",
    "outputId": "eb790c35-9b23-436d-933a-fb5b10b35487"
   },
   "outputs": [
    {
     "data": {
      "text/html": [
       "<div>\n",
       "<style scoped>\n",
       "    .dataframe tbody tr th:only-of-type {\n",
       "        vertical-align: middle;\n",
       "    }\n",
       "\n",
       "    .dataframe tbody tr th {\n",
       "        vertical-align: top;\n",
       "    }\n",
       "\n",
       "    .dataframe thead th {\n",
       "        text-align: right;\n",
       "    }\n",
       "</style>\n",
       "<table border=\"1\" class=\"dataframe\">\n",
       "  <thead>\n",
       "    <tr style=\"text-align: right;\">\n",
       "      <th></th>\n",
       "      <th>Pulse</th>\n",
       "      <th>SpO2</th>\n",
       "      <th>etCO2</th>\n",
       "      <th>NBP (Sys)</th>\n",
       "      <th>NBP (Dia)</th>\n",
       "    </tr>\n",
       "  </thead>\n",
       "  <tbody>\n",
       "    <tr>\n",
       "      <th>0</th>\n",
       "      <td>51</td>\n",
       "      <td>98</td>\n",
       "      <td>39</td>\n",
       "      <td>94</td>\n",
       "      <td>50.0</td>\n",
       "    </tr>\n",
       "    <tr>\n",
       "      <th>1</th>\n",
       "      <td>51</td>\n",
       "      <td>98</td>\n",
       "      <td>39</td>\n",
       "      <td>94</td>\n",
       "      <td>50.0</td>\n",
       "    </tr>\n",
       "    <tr>\n",
       "      <th>2</th>\n",
       "      <td>51</td>\n",
       "      <td>98</td>\n",
       "      <td>39</td>\n",
       "      <td>94</td>\n",
       "      <td>50.0</td>\n",
       "    </tr>\n",
       "    <tr>\n",
       "      <th>3</th>\n",
       "      <td>51</td>\n",
       "      <td>98</td>\n",
       "      <td>39</td>\n",
       "      <td>94</td>\n",
       "      <td>50.0</td>\n",
       "    </tr>\n",
       "    <tr>\n",
       "      <th>4</th>\n",
       "      <td>51</td>\n",
       "      <td>98</td>\n",
       "      <td>39</td>\n",
       "      <td>94</td>\n",
       "      <td>50.0</td>\n",
       "    </tr>\n",
       "  </tbody>\n",
       "</table>\n",
       "</div>"
      ],
      "text/plain": [
       "   Pulse  SpO2  etCO2  NBP (Sys)  NBP (Dia)\n",
       "0     51    98     39         94       50.0\n",
       "1     51    98     39         94       50.0\n",
       "2     51    98     39         94       50.0\n",
       "3     51    98     39         94       50.0\n",
       "4     51    98     39         94       50.0"
      ]
     },
     "execution_count": 8,
     "metadata": {
      "tags": []
     },
     "output_type": "execute_result"
    }
   ],
   "source": [
    "Dataset = Dataset[['Pulse','SpO2','etCO2','NBP (Sys)','NBP (Dia)']]\n",
    "Dataset.head()"
   ]
  },
  {
   "cell_type": "code",
   "execution_count": 9,
   "metadata": {
    "colab": {
     "base_uri": "https://localhost:8080/",
     "height": 284
    },
    "id": "oeHlFA-5Rsq9",
    "outputId": "29e8cf39-cf21-4e0f-accd-a4b30db19a6e"
   },
   "outputs": [
    {
     "data": {
      "text/html": [
       "<div>\n",
       "<style scoped>\n",
       "    .dataframe tbody tr th:only-of-type {\n",
       "        vertical-align: middle;\n",
       "    }\n",
       "\n",
       "    .dataframe tbody tr th {\n",
       "        vertical-align: top;\n",
       "    }\n",
       "\n",
       "    .dataframe thead th {\n",
       "        text-align: right;\n",
       "    }\n",
       "</style>\n",
       "<table border=\"1\" class=\"dataframe\">\n",
       "  <thead>\n",
       "    <tr style=\"text-align: right;\">\n",
       "      <th></th>\n",
       "      <th>Pulse</th>\n",
       "      <th>SpO2</th>\n",
       "      <th>etCO2</th>\n",
       "      <th>NBP (Sys)</th>\n",
       "      <th>NBP (Dia)</th>\n",
       "    </tr>\n",
       "  </thead>\n",
       "  <tbody>\n",
       "    <tr>\n",
       "      <th>count</th>\n",
       "      <td>9600.000000</td>\n",
       "      <td>9600.000000</td>\n",
       "      <td>9600.000000</td>\n",
       "      <td>9600.000000</td>\n",
       "      <td>8269.000000</td>\n",
       "    </tr>\n",
       "    <tr>\n",
       "      <th>mean</th>\n",
       "      <td>52.205312</td>\n",
       "      <td>97.370625</td>\n",
       "      <td>38.808021</td>\n",
       "      <td>103.952812</td>\n",
       "      <td>60.948361</td>\n",
       "    </tr>\n",
       "    <tr>\n",
       "      <th>std</th>\n",
       "      <td>1.527889</td>\n",
       "      <td>1.354204</td>\n",
       "      <td>1.206779</td>\n",
       "      <td>4.078427</td>\n",
       "      <td>4.739704</td>\n",
       "    </tr>\n",
       "    <tr>\n",
       "      <th>min</th>\n",
       "      <td>50.000000</td>\n",
       "      <td>94.000000</td>\n",
       "      <td>37.000000</td>\n",
       "      <td>94.000000</td>\n",
       "      <td>50.000000</td>\n",
       "    </tr>\n",
       "    <tr>\n",
       "      <th>25%</th>\n",
       "      <td>51.000000</td>\n",
       "      <td>97.000000</td>\n",
       "      <td>38.000000</td>\n",
       "      <td>103.000000</td>\n",
       "      <td>63.000000</td>\n",
       "    </tr>\n",
       "    <tr>\n",
       "      <th>50%</th>\n",
       "      <td>52.000000</td>\n",
       "      <td>97.000000</td>\n",
       "      <td>39.000000</td>\n",
       "      <td>106.000000</td>\n",
       "      <td>63.000000</td>\n",
       "    </tr>\n",
       "    <tr>\n",
       "      <th>75%</th>\n",
       "      <td>53.000000</td>\n",
       "      <td>99.000000</td>\n",
       "      <td>39.000000</td>\n",
       "      <td>106.000000</td>\n",
       "      <td>63.000000</td>\n",
       "    </tr>\n",
       "    <tr>\n",
       "      <th>max</th>\n",
       "      <td>57.000000</td>\n",
       "      <td>100.000000</td>\n",
       "      <td>41.000000</td>\n",
       "      <td>106.000000</td>\n",
       "      <td>63.000000</td>\n",
       "    </tr>\n",
       "  </tbody>\n",
       "</table>\n",
       "</div>"
      ],
      "text/plain": [
       "             Pulse         SpO2        etCO2    NBP (Sys)    NBP (Dia)\n",
       "count  9600.000000  9600.000000  9600.000000  9600.000000  8269.000000\n",
       "mean     52.205312    97.370625    38.808021   103.952812    60.948361\n",
       "std       1.527889     1.354204     1.206779     4.078427     4.739704\n",
       "min      50.000000    94.000000    37.000000    94.000000    50.000000\n",
       "25%      51.000000    97.000000    38.000000   103.000000    63.000000\n",
       "50%      52.000000    97.000000    39.000000   106.000000    63.000000\n",
       "75%      53.000000    99.000000    39.000000   106.000000    63.000000\n",
       "max      57.000000   100.000000    41.000000   106.000000    63.000000"
      ]
     },
     "execution_count": 9,
     "metadata": {
      "tags": []
     },
     "output_type": "execute_result"
    }
   ],
   "source": [
    "Dataset.describe()"
   ]
  },
  {
   "cell_type": "code",
   "execution_count": 10,
   "metadata": {
    "colab": {
     "base_uri": "https://localhost:8080/",
     "height": 284
    },
    "id": "OPSmzP9SSifT",
    "outputId": "154402bc-7884-4167-d904-99ca015e2dc6"
   },
   "outputs": [
    {
     "data": {
      "text/html": [
       "<div>\n",
       "<style scoped>\n",
       "    .dataframe tbody tr th:only-of-type {\n",
       "        vertical-align: middle;\n",
       "    }\n",
       "\n",
       "    .dataframe tbody tr th {\n",
       "        vertical-align: top;\n",
       "    }\n",
       "\n",
       "    .dataframe thead th {\n",
       "        text-align: right;\n",
       "    }\n",
       "</style>\n",
       "<table border=\"1\" class=\"dataframe\">\n",
       "  <thead>\n",
       "    <tr style=\"text-align: right;\">\n",
       "      <th></th>\n",
       "      <th>Pulse</th>\n",
       "      <th>SpO2</th>\n",
       "      <th>etCO2</th>\n",
       "      <th>NBP (Sys)</th>\n",
       "      <th>NBP (Dia)</th>\n",
       "    </tr>\n",
       "  </thead>\n",
       "  <tbody>\n",
       "    <tr>\n",
       "      <th>count</th>\n",
       "      <td>8269.000000</td>\n",
       "      <td>8269.000000</td>\n",
       "      <td>8269.000000</td>\n",
       "      <td>8269.000000</td>\n",
       "      <td>8269.000000</td>\n",
       "    </tr>\n",
       "    <tr>\n",
       "      <th>mean</th>\n",
       "      <td>52.213569</td>\n",
       "      <td>97.318660</td>\n",
       "      <td>38.752328</td>\n",
       "      <td>104.106180</td>\n",
       "      <td>60.948361</td>\n",
       "    </tr>\n",
       "    <tr>\n",
       "      <th>std</th>\n",
       "      <td>1.455302</td>\n",
       "      <td>1.186081</td>\n",
       "      <td>1.283514</td>\n",
       "      <td>4.375112</td>\n",
       "      <td>4.739704</td>\n",
       "    </tr>\n",
       "    <tr>\n",
       "      <th>min</th>\n",
       "      <td>50.000000</td>\n",
       "      <td>94.000000</td>\n",
       "      <td>37.000000</td>\n",
       "      <td>94.000000</td>\n",
       "      <td>50.000000</td>\n",
       "    </tr>\n",
       "    <tr>\n",
       "      <th>25%</th>\n",
       "      <td>51.000000</td>\n",
       "      <td>97.000000</td>\n",
       "      <td>38.000000</td>\n",
       "      <td>106.000000</td>\n",
       "      <td>63.000000</td>\n",
       "    </tr>\n",
       "    <tr>\n",
       "      <th>50%</th>\n",
       "      <td>52.000000</td>\n",
       "      <td>97.000000</td>\n",
       "      <td>39.000000</td>\n",
       "      <td>106.000000</td>\n",
       "      <td>63.000000</td>\n",
       "    </tr>\n",
       "    <tr>\n",
       "      <th>75%</th>\n",
       "      <td>53.000000</td>\n",
       "      <td>98.000000</td>\n",
       "      <td>39.000000</td>\n",
       "      <td>106.000000</td>\n",
       "      <td>63.000000</td>\n",
       "    </tr>\n",
       "    <tr>\n",
       "      <th>max</th>\n",
       "      <td>55.000000</td>\n",
       "      <td>100.000000</td>\n",
       "      <td>41.000000</td>\n",
       "      <td>106.000000</td>\n",
       "      <td>63.000000</td>\n",
       "    </tr>\n",
       "  </tbody>\n",
       "</table>\n",
       "</div>"
      ],
      "text/plain": [
       "             Pulse         SpO2        etCO2    NBP (Sys)    NBP (Dia)\n",
       "count  8269.000000  8269.000000  8269.000000  8269.000000  8269.000000\n",
       "mean     52.213569    97.318660    38.752328   104.106180    60.948361\n",
       "std       1.455302     1.186081     1.283514     4.375112     4.739704\n",
       "min      50.000000    94.000000    37.000000    94.000000    50.000000\n",
       "25%      51.000000    97.000000    38.000000   106.000000    63.000000\n",
       "50%      52.000000    97.000000    39.000000   106.000000    63.000000\n",
       "75%      53.000000    98.000000    39.000000   106.000000    63.000000\n",
       "max      55.000000   100.000000    41.000000   106.000000    63.000000"
      ]
     },
     "execution_count": 10,
     "metadata": {
      "tags": []
     },
     "output_type": "execute_result"
    }
   ],
   "source": [
    "Dataset = Dataset.dropna()\n",
    "Dataset.describe()"
   ]
  },
  {
   "cell_type": "code",
   "execution_count": 11,
   "metadata": {
    "colab": {
     "base_uri": "https://localhost:8080/",
     "height": 195
    },
    "id": "ew9ZM_sET06N",
    "outputId": "8d7afdc4-17d8-4fc3-f715-507d0ae91b12"
   },
   "outputs": [
    {
     "data": {
      "text/html": [
       "<div>\n",
       "<style scoped>\n",
       "    .dataframe tbody tr th:only-of-type {\n",
       "        vertical-align: middle;\n",
       "    }\n",
       "\n",
       "    .dataframe tbody tr th {\n",
       "        vertical-align: top;\n",
       "    }\n",
       "\n",
       "    .dataframe thead th {\n",
       "        text-align: right;\n",
       "    }\n",
       "</style>\n",
       "<table border=\"1\" class=\"dataframe\">\n",
       "  <thead>\n",
       "    <tr style=\"text-align: right;\">\n",
       "      <th></th>\n",
       "      <th>Pulse</th>\n",
       "      <th>SpO2</th>\n",
       "      <th>etCO2</th>\n",
       "      <th>NBP (Sys)</th>\n",
       "      <th>NBP (Dia)</th>\n",
       "    </tr>\n",
       "  </thead>\n",
       "  <tbody>\n",
       "    <tr>\n",
       "      <th>Pulse</th>\n",
       "      <td>1.000000</td>\n",
       "      <td>0.027064</td>\n",
       "      <td>-0.197206</td>\n",
       "      <td>0.361005</td>\n",
       "      <td>0.361005</td>\n",
       "    </tr>\n",
       "    <tr>\n",
       "      <th>SpO2</th>\n",
       "      <td>0.027064</td>\n",
       "      <td>1.000000</td>\n",
       "      <td>-0.062239</td>\n",
       "      <td>-0.563617</td>\n",
       "      <td>-0.563617</td>\n",
       "    </tr>\n",
       "    <tr>\n",
       "      <th>etCO2</th>\n",
       "      <td>-0.197206</td>\n",
       "      <td>-0.062239</td>\n",
       "      <td>1.000000</td>\n",
       "      <td>-0.242231</td>\n",
       "      <td>-0.242231</td>\n",
       "    </tr>\n",
       "    <tr>\n",
       "      <th>NBP (Sys)</th>\n",
       "      <td>0.361005</td>\n",
       "      <td>-0.563617</td>\n",
       "      <td>-0.242231</td>\n",
       "      <td>1.000000</td>\n",
       "      <td>1.000000</td>\n",
       "    </tr>\n",
       "    <tr>\n",
       "      <th>NBP (Dia)</th>\n",
       "      <td>0.361005</td>\n",
       "      <td>-0.563617</td>\n",
       "      <td>-0.242231</td>\n",
       "      <td>1.000000</td>\n",
       "      <td>1.000000</td>\n",
       "    </tr>\n",
       "  </tbody>\n",
       "</table>\n",
       "</div>"
      ],
      "text/plain": [
       "              Pulse      SpO2     etCO2  NBP (Sys)  NBP (Dia)\n",
       "Pulse      1.000000  0.027064 -0.197206   0.361005   0.361005\n",
       "SpO2       0.027064  1.000000 -0.062239  -0.563617  -0.563617\n",
       "etCO2     -0.197206 -0.062239  1.000000  -0.242231  -0.242231\n",
       "NBP (Sys)  0.361005 -0.563617 -0.242231   1.000000   1.000000\n",
       "NBP (Dia)  0.361005 -0.563617 -0.242231   1.000000   1.000000"
      ]
     },
     "execution_count": 11,
     "metadata": {
      "tags": []
     },
     "output_type": "execute_result"
    }
   ],
   "source": [
    "Dataset.corr()"
   ]
  },
  {
   "cell_type": "code",
   "execution_count": 12,
   "metadata": {
    "colab": {
     "base_uri": "https://localhost:8080/",
     "height": 595
    },
    "id": "uvJ-cYS1TQn5",
    "outputId": "09020f61-ed52-446c-ae3b-3f6102e931da"
   },
   "outputs": [
    {
     "data": {
      "image/png": "[encoded data removed]",
      "text/plain": [
       "<Figure size 1440x720 with 2 Axes>"
      ]
     },
     "metadata": {
      "needs_background": "light",
      "tags": []
     },
     "output_type": "display_data"
    }
   ],
   "source": [
    "plt.figure(figsize=(20,10))\n",
    "sns.heatmap(Dataset.corr())\n",
    "plt.show()"
   ]
  },
  {
   "cell_type": "markdown",
   "metadata": {
    "id": "OWfGY9BpUwsn"
   },
   "source": [
    "# Inference: Only Pulse and NBP (Dia) are independent of each other "
   ]
  },
  {
   "cell_type": "markdown",
   "metadata": {
    "id": "1cmWbqrIVF8q"
   },
   "source": [
    "# Preparing Data for Time Series Prediction"
   ]
  },
  {
   "cell_type": "code",
   "execution_count": 60,
   "metadata": {
    "id": "lEg-Ad3aYnSf"
   },
   "outputs": [],
   "source": [
    "N_TIMESTAMPS = 50"
   ]
  },
  {
   "cell_type": "code",
   "execution_count": 61,
   "metadata": {
    "colab": {
     "base_uri": "https://localhost:8080/",
     "height": 34
    },
    "id": "T_8-jCnaVFMx",
    "outputId": "aebad75a-2a2d-4dab-a579-dfad75bc2767"
   },
   "outputs": [
    {
     "name": "stdout",
     "output_type": "stream",
     "text": [
      "Number of rows reduced from:  8269  to  8219\n"
     ]
    }
   ],
   "source": [
    "Dataset = pd.read_csv('/content/uq_vsd_case01_fulldata_13 - (Modified).csv')\n",
    "Dataset = Dataset[['Pulse','SpO2','etCO2','NBP (Sys)','NBP (Dia)']]\n",
    "Dataset = Dataset.dropna()\n",
    "for i in Dataset.columns:\n",
    "  Dataset['Future '+i] = Dataset[i].shift(-1*N_TIMESTAMPS)\n",
    "old=len(Dataset)\n",
    "Dataset = Dataset.dropna()\n",
    "new=len(Dataset)\n",
    "print('Number of rows reduced from: ',old,' to ',new)"
   ]
  },
  {
   "cell_type": "code",
   "execution_count": 62,
   "metadata": {
    "colab": {
     "base_uri": "https://localhost:8080/",
     "height": 34
    },
    "id": "DsICdwLme71H",
    "outputId": "07b46487-ef49-40bf-8e2d-82b0a291bbc8"
   },
   "outputs": [
    {
     "data": {
      "text/plain": [
       "(8219, 10)"
      ]
     },
     "execution_count": 62,
     "metadata": {
      "tags": []
     },
     "output_type": "execute_result"
    }
   ],
   "source": [
    "Dataset.shape"
   ]
  },
  {
   "cell_type": "code",
   "execution_count": 63,
   "metadata": {
    "colab": {
     "base_uri": "https://localhost:8080/",
     "height": 195
    },
    "id": "uNo3PEygWx48",
    "outputId": "010538dd-9310-4f78-f094-196ccb99bcc8"
   },
   "outputs": [
    {
     "data": {
      "text/html": [
       "<div>\n",
       "<style scoped>\n",
       "    .dataframe tbody tr th:only-of-type {\n",
       "        vertical-align: middle;\n",
       "    }\n",
       "\n",
       "    .dataframe tbody tr th {\n",
       "        vertical-align: top;\n",
       "    }\n",
       "\n",
       "    .dataframe thead th {\n",
       "        text-align: right;\n",
       "    }\n",
       "</style>\n",
       "<table border=\"1\" class=\"dataframe\">\n",
       "  <thead>\n",
       "    <tr style=\"text-align: right;\">\n",
       "      <th></th>\n",
       "      <th>Pulse</th>\n",
       "      <th>SpO2</th>\n",
       "      <th>etCO2</th>\n",
       "      <th>NBP (Sys)</th>\n",
       "      <th>NBP (Dia)</th>\n",
       "      <th>Future Pulse</th>\n",
       "      <th>Future SpO2</th>\n",
       "      <th>Future etCO2</th>\n",
       "      <th>Future NBP (Sys)</th>\n",
       "      <th>Future NBP (Dia)</th>\n",
       "    </tr>\n",
       "  </thead>\n",
       "  <tbody>\n",
       "    <tr>\n",
       "      <th>0</th>\n",
       "      <td>-0.838253</td>\n",
       "      <td>0.576805</td>\n",
       "      <td>0.189034</td>\n",
       "      <td>-2.301757</td>\n",
       "      <td>-2.301757</td>\n",
       "      <td>-0.838253</td>\n",
       "      <td>0.576805</td>\n",
       "      <td>0.193584</td>\n",
       "      <td>-2.355632</td>\n",
       "      <td>-2.355632</td>\n",
       "    </tr>\n",
       "    <tr>\n",
       "      <th>1</th>\n",
       "      <td>-0.838253</td>\n",
       "      <td>0.576805</td>\n",
       "      <td>0.189034</td>\n",
       "      <td>-2.301757</td>\n",
       "      <td>-2.301757</td>\n",
       "      <td>-0.838253</td>\n",
       "      <td>0.576805</td>\n",
       "      <td>0.193584</td>\n",
       "      <td>-2.355632</td>\n",
       "      <td>-2.355632</td>\n",
       "    </tr>\n",
       "    <tr>\n",
       "      <th>2</th>\n",
       "      <td>-0.838253</td>\n",
       "      <td>0.576805</td>\n",
       "      <td>0.189034</td>\n",
       "      <td>-2.301757</td>\n",
       "      <td>-2.301757</td>\n",
       "      <td>-0.838253</td>\n",
       "      <td>0.576805</td>\n",
       "      <td>0.193584</td>\n",
       "      <td>-2.355632</td>\n",
       "      <td>-2.355632</td>\n",
       "    </tr>\n",
       "    <tr>\n",
       "      <th>3</th>\n",
       "      <td>-0.838253</td>\n",
       "      <td>0.576805</td>\n",
       "      <td>0.189034</td>\n",
       "      <td>-2.301757</td>\n",
       "      <td>-2.301757</td>\n",
       "      <td>-0.838253</td>\n",
       "      <td>0.576805</td>\n",
       "      <td>0.193584</td>\n",
       "      <td>-2.355632</td>\n",
       "      <td>-2.355632</td>\n",
       "    </tr>\n",
       "    <tr>\n",
       "      <th>4</th>\n",
       "      <td>-0.838253</td>\n",
       "      <td>0.576805</td>\n",
       "      <td>0.189034</td>\n",
       "      <td>-2.301757</td>\n",
       "      <td>-2.301757</td>\n",
       "      <td>-0.838253</td>\n",
       "      <td>0.576805</td>\n",
       "      <td>0.193584</td>\n",
       "      <td>-2.355632</td>\n",
       "      <td>-2.355632</td>\n",
       "    </tr>\n",
       "  </tbody>\n",
       "</table>\n",
       "</div>"
      ],
      "text/plain": [
       "      Pulse      SpO2  ...  Future NBP (Sys)  Future NBP (Dia)\n",
       "0 -0.838253  0.576805  ...         -2.355632         -2.355632\n",
       "1 -0.838253  0.576805  ...         -2.355632         -2.355632\n",
       "2 -0.838253  0.576805  ...         -2.355632         -2.355632\n",
       "3 -0.838253  0.576805  ...         -2.355632         -2.355632\n",
       "4 -0.838253  0.576805  ...         -2.355632         -2.355632\n",
       "\n",
       "[5 rows x 10 columns]"
      ]
     },
     "execution_count": 63,
     "metadata": {
      "tags": []
     },
     "output_type": "execute_result"
    }
   ],
   "source": [
    "for col in Dataset.columns:\n",
    "  Dataset[col]=preprocessing.scale(Dataset[col].values)\n",
    "Dataset.head()"
   ]
  },
  {
   "cell_type": "code",
   "execution_count": 64,
   "metadata": {
    "colab": {
     "base_uri": "https://localhost:8080/",
     "height": 235
    },
    "id": "eE1OSThxP4Bh",
    "outputId": "346da8bd-f48d-4db0-b0c6-c9a667b31c91"
   },
   "outputs": [
    {
     "data": {
      "text/plain": [
       "array([[-0.83825295,  0.57680506,  0.18903385, ...,  0.19358374,\n",
       "        -2.3556324 , -2.3556324 ],\n",
       "       [-0.83825295,  0.57680506,  0.18903385, ...,  0.19358374,\n",
       "        -2.3556324 , -2.3556324 ],\n",
       "       [-0.83825295,  0.57680506,  0.18903385, ...,  0.19358374,\n",
       "        -2.3556324 , -2.3556324 ],\n",
       "       ...,\n",
       "       [-0.83825295,  0.57680506, -0.58857838, ..., -0.58330334,\n",
       "         0.42451445,  0.42451445],\n",
       "       [-0.83825295,  0.57680506, -0.58857838, ..., -0.58330334,\n",
       "         0.42451445,  0.42451445],\n",
       "       [-0.83825295,  0.57680506, -0.58857838, ..., -0.58330334,\n",
       "         0.42451445,  0.42451445]])"
      ]
     },
     "execution_count": 64,
     "metadata": {
      "tags": []
     },
     "output_type": "execute_result"
    }
   ],
   "source": [
    "Dataset.values"
   ]
  },
  {
   "cell_type": "code",
   "execution_count": 65,
   "metadata": {
    "id": "AUETAkvZODdY"
   },
   "outputs": [],
   "source": [
    "Sequential_Data = []\n",
    "previousN = deque(maxlen=N_TIMESTAMPS)\n",
    "for record in Dataset.values:\n",
    "  previousN.append([datavalue for datavalue in record[:5]])\n",
    "  if len(previousN)==N_TIMESTAMPS:\n",
    "    Sequential_Data.append([np.array(previousN),np.array(record[5:])])\n",
    "#random.shuffle(Sequential_Data)"
   ]
  },
  {
   "cell_type": "code",
   "execution_count": 66,
   "metadata": {
    "colab": {
     "base_uri": "https://localhost:8080/",
     "height": 50
    },
    "id": "QKMVqOvWSfCo",
    "outputId": "c67b8ca9-99a8-4c1e-993d-33642e62b097"
   },
   "outputs": [
    {
     "name": "stdout",
     "output_type": "stream",
     "text": [
      "(8170, 50, 5)\n",
      "(8170, 5)\n"
     ]
    }
   ],
   "source": [
    "X=[]\n",
    "Y=[]\n",
    "for Sequence,Target in Sequential_Data:\n",
    "  X.append(Sequence)\n",
    "  Y.append(Target)\n",
    "X=np.array(X)\n",
    "Y=np.array(Y)\n",
    "print(X.shape)\n",
    "print(Y.shape)"
   ]
  },
  {
   "cell_type": "markdown",
   "metadata": {
    "id": "MtprKIMBdb5v"
   },
   "source": [
    "# Build LSTM Model"
   ]
  },
  {
   "cell_type": "code",
   "execution_count": 67,
   "metadata": {
    "colab": {
     "base_uri": "https://localhost:8080/",
     "height": 406
    },
    "id": "16KXgs8QgXbg",
    "outputId": "e1231a0e-a2b1-4fa2-a336-1c581d5db881"
   },
   "outputs": [
    {
     "name": "stdout",
     "output_type": "stream",
     "text": [
      "WARNING:tensorflow:Layer lstm_14 will not use cuDNN kernel since it doesn't meet the cuDNN kernel criteria. It will use generic GPU kernel as fallback when running on GPU\n",
      "WARNING:tensorflow:Layer lstm_15 will not use cuDNN kernel since it doesn't meet the cuDNN kernel criteria. It will use generic GPU kernel as fallback when running on GPU\n",
      "Model: \"sequential_8\"\n",
      "_________________________________________________________________\n",
      "Layer (type)                 Output Shape              Param #   \n",
      "=================================================================\n",
      "lstm_14 (LSTM)               (None, 50, 32)            4864      \n",
      "_________________________________________________________________\n",
      "dropout_14 (Dropout)         (None, 50, 32)            0         \n",
      "_________________________________________________________________\n",
      "lstm_15 (LSTM)               (None, 32)                8320      \n",
      "_________________________________________________________________\n",
      "dropout_15 (Dropout)         (None, 32)                0         \n",
      "_________________________________________________________________\n",
      "dense_9 (Dense)              (None, 28)                924       \n",
      "_________________________________________________________________\n",
      "dense_10 (Dense)             (None, 5)                 145       \n",
      "=================================================================\n",
      "Total params: 14,253\n",
      "Trainable params: 14,253\n",
      "Non-trainable params: 0\n",
      "_________________________________________________________________\n"
     ]
    }
   ],
   "source": [
    "model = Sequential()\n",
    "model.add(LSTM(32,input_shape=X.shape[1:],activation='relu',return_sequences=True))\n",
    "model.add(Dropout(0.2))\n",
    "model.add(LSTM(32,activation='relu'))\n",
    "model.add(Dropout(0.2))\n",
    "model.add(Dense(28,activation='relu'))\n",
    "model.add(Dense(Y.shape[1],activation='relu'))\n",
    "model.summary()"
   ]
  },
  {
   "cell_type": "code",
   "execution_count": 68,
   "metadata": {
    "id": "dHTjc0yRiZL2"
   },
   "outputs": [],
   "source": [
    "model.compile(loss='mse', optimizer='rmsprop',metrics=['accuracy'])"
   ]
  },
  {
   "cell_type": "code",
   "execution_count": 69,
   "metadata": {
    "id": "O0QC4qdsike0"
   },
   "outputs": [],
   "source": [
    "EarlyStopping=tf.keras.callbacks.EarlyStopping(monitor='loss', patience=10, verbose=1, mode='min',restore_best_weights=True)"
   ]
  },
  {
   "cell_type": "code",
   "execution_count": null,
   "metadata": {
    "colab": {
     "base_uri": "https://localhost:8080/",
     "height": 487
    },
    "id": "OLv5BG7vib-z",
    "outputId": "7a5e772a-b134-481c-c10e-230a7ec5d54c"
   },
   "outputs": [
    {
     "name": "stdout",
     "output_type": "stream",
     "text": [
      "Epoch 1/1000\n",
      "817/817 [==============================] - 51s 63ms/step - loss: 0.7110 - accuracy: 0.5113\n",
      "Epoch 2/1000\n",
      "817/817 [==============================] - 51s 63ms/step - loss: 0.6264 - accuracy: 0.7558\n",
      "Epoch 3/1000\n",
      "817/817 [==============================] - 51s 63ms/step - loss: 0.6203 - accuracy: 0.7824\n",
      "Epoch 4/1000\n",
      "817/817 [==============================] - 53s 65ms/step - loss: 0.6178 - accuracy: 0.7552\n",
      "Epoch 5/1000\n",
      "817/817 [==============================] - 53s 65ms/step - loss: 0.6154 - accuracy: 0.7599\n",
      "Epoch 6/1000\n",
      "817/817 [==============================] - 52s 64ms/step - loss: 0.6709 - accuracy: 0.7581\n",
      "Epoch 7/1000\n",
      "817/817 [==============================] - 52s 63ms/step - loss: 0.6127 - accuracy: 0.7636\n",
      "Epoch 8/1000\n",
      "817/817 [==============================] - 53s 64ms/step - loss: 0.6128 - accuracy: 0.7765\n",
      "Epoch 9/1000\n",
      "817/817 [==============================] - 52s 64ms/step - loss: 0.6116 - accuracy: 0.7889\n",
      "Epoch 10/1000\n",
      "817/817 [==============================] - 53s 64ms/step - loss: 0.6122 - accuracy: 0.7792\n",
      "Epoch 11/1000\n",
      "817/817 [==============================] - 53s 65ms/step - loss: 0.6113 - accuracy: 0.7874\n",
      "Epoch 12/1000\n",
      "817/817 [==============================] - 54s 66ms/step - loss: 0.6110 - accuracy: 0.7870\n",
      "Epoch 13/1000\n",
      "817/817 [==============================] - 54s 66ms/step - loss: 0.6111 - accuracy: 0.7927\n",
      "Epoch 14/1000\n",
      "688/817 [========================>.....] - ETA: 8s - loss: 0.6138 - accuracy: 0.7757"
     ]
    }
   ],
   "source": [
    "model.fit(x=X,y=Y,epochs=1000,batch_size=10,callbacks=EarlyStopping)"
   ]
  }
 ],
 "metadata": {
  "accelerator": "GPU",
  "colab": {
   "collapsed_sections": [],
   "name": "VITAL SIGNS.ipynb",
   "provenance": [],
   "toc_visible": true
  },
  "kernelspec": {
   "display_name": "Python 3",
   "language": "python",
   "name": "python3"
  },
  "language_info": {
   "codemirror_mode": {
    "name": "ipython",
    "version": 3
   },
   "file_extension": ".py",
   "mimetype": "text/x-python",
   "name": "python",
   "nbconvert_exporter": "python",
   "pygments_lexer": "ipython3",
   "version": "3.7.6"
  }
 },
 "nbformat": 4,
 "nbformat_minor": 1
}
